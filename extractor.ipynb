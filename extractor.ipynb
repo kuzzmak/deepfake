{
 "cells": [
  {
   "cell_type": "code",
   "execution_count": 6,
   "source": [
    "from core.extractor import Extractor, ExtractorConfiguration"
   ],
   "outputs": [],
   "metadata": {}
  },
  {
   "cell_type": "code",
   "execution_count": null,
   "source": [
    "input_dir = r'data\\gen_faces'\r\n",
    "ex_conf = ExtractorConfiguration(input_dir)\r\n",
    "extractor = Extractor(ex_conf)\r\n",
    "extractor.run()"
   ],
   "outputs": [],
   "metadata": {}
  },
  {
   "cell_type": "code",
   "execution_count": null,
   "source": [],
   "outputs": [],
   "metadata": {}
  }
 ],
 "metadata": {
  "orig_nbformat": 4,
  "language_info": {
   "name": "python",
   "version": "3.7.1",
   "mimetype": "text/x-python",
   "codemirror_mode": {
    "name": "ipython",
    "version": 3
   },
   "pygments_lexer": "ipython3",
   "nbconvert_exporter": "python",
   "file_extension": ".py"
  },
  "kernelspec": {
   "name": "python3",
   "display_name": "Python 3.7.1 64-bit ('env': venv)"
  },
  "interpreter": {
   "hash": "b560b4df38c0ec3b7566b1cdd15c13e26710bdc8aba7be7e7d656fd50d3bdf64"
  }
 },
 "nbformat": 4,
 "nbformat_minor": 2
}