{
 "cells": [
  {
   "cell_type": "code",
   "execution_count": null,
   "source": [
    "!ssh-keygen - t rsa - b 4096\r\n",
    "!ssh-keyscan - t rsa github.com >> ~/.ssh/known_hosts\r\n",
    "!cat / root/.ssh/id_rsa.pub\r\n",
    "!ssh - T git@github.com\r\n",
    "!git config - -global user.email \"kuzminski.antonio@gmail.com\"\r\n",
    "!git config - -global user.name \"kuzzmak\""
   ],
   "outputs": [],
   "metadata": {}
  },
  {
   "cell_type": "code",
   "execution_count": null,
   "source": [
    "!git clone git@github.com: kuzzmak/deepfake.git"
   ],
   "outputs": [],
   "metadata": {}
  },
  {
   "cell_type": "code",
   "execution_count": 9,
   "source": [
    "from core.extractor import Extractor, ExtractorConfiguration"
   ],
   "outputs": [],
   "metadata": {}
  },
  {
   "cell_type": "code",
   "execution_count": 8,
   "source": [
    "input_dir = r'data\\gen_faces'\r\n",
    "ex_conf = ExtractorConfiguration(input_dir)\r\n",
    "extractor = Extractor(ex_conf)\r\n",
    "# extractor.run()"
   ],
   "outputs": [],
   "metadata": {}
  },
  {
   "cell_type": "code",
   "execution_count": null,
   "source": [],
   "outputs": [],
   "metadata": {}
  }
 ],
 "metadata": {
  "orig_nbformat": 4,
  "language_info": {
   "name": "python",
   "version": "3.7.1",
   "mimetype": "text/x-python",
   "codemirror_mode": {
    "name": "ipython",
    "version": 3
   },
   "pygments_lexer": "ipython3",
   "nbconvert_exporter": "python",
   "file_extension": ".py"
  },
  "kernelspec": {
   "name": "python3",
   "display_name": "Python 3.7.1 64-bit ('env': venv)"
  },
  "interpreter": {
   "hash": "b560b4df38c0ec3b7566b1cdd15c13e26710bdc8aba7be7e7d656fd50d3bdf64"
  }
 },
 "nbformat": 4,
 "nbformat_minor": 2
}